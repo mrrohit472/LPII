{
 "cells": [
  {
   "cell_type": "code",
   "execution_count": 6,
   "metadata": {},
   "outputs": [
    {
     "name": "stdout",
     "output_type": "stream",
     "text": [
      "[['C', 11], ['D', 5004], ['E', 5008], ['G', 10]]\n",
      "visited nodes :[['S', 8], ['A', 9], ['B', 9], ['G', 9]]\n",
      "optimal nodes sequence : ['S', 'B', 'G']\n"
     ]
    }
   ],
   "source": [
    "tree = { 'S': [['A', 1], ['B', 5], ['C', 8]],\n",
    "         'A': [['S', 1], ['D', 3], ['E', 7], ['G', 9]],\n",
    "         'B': [['S', 5], ['G', 4],],\n",
    "         'C': [['S', 8], ['G',5]],\n",
    "         'D': [['A', 3]],\n",
    "         'E': [['A', 7]]\n",
    "}\n",
    "\n",
    "heuristic = {'S':8, 'A':8, 'B':4, 'C':3, 'D':5000, 'E':5000, 'G':0}\n",
    "\n",
    "cost = {'S':0}              #total cost for nodes visited\n",
    "\n",
    "def AStarSearch():\n",
    "    global tree, heuristic\n",
    "    closed = []\n",
    "    opened = [['S',8]]\n",
    "    '''find the visited nodes //closed'''\n",
    "    while True:\n",
    "        fn = [i[1] for i in opened]\n",
    "        chosen_index = fn.index(min(fn))\n",
    "        node = opened[chosen_index][0]\n",
    "        closed.append(opened[chosen_index])\n",
    "        del opened[chosen_index]\n",
    "        if closed[-1][0] == 'G':\n",
    "            break\n",
    "        for item in tree[node]:\n",
    "            if item[0] in [closed_item[0] for closed_item in closed]:\n",
    "                continue\n",
    "            cost.update({item[0]:cost[node]+item[1]})\n",
    "            fn_node = cost[node] + heuristic[item[0]] + item[1]\n",
    "            temp  = [item[0], fn_node]\n",
    "            opened.append(temp)\n",
    "\n",
    "    '''find optimal sequence'''\n",
    "    trace_node = 'G'\n",
    "    optimal_sequence = ['G'] \n",
    "    for i in range(len(closed)-2, -1, -1):\n",
    "        check_node = closed[i][0]\n",
    "        if trace_node in [children[0] for children in tree[check_node]]:\n",
    "            children_costs = [temp[1] for temp in tree[check_node]]\n",
    "            children_nodes = [temp[0] for temp in tree[check_node]]     \n",
    "\n",
    "            if cost[check_node]+children_costs[children_nodes.index(trace_node)] == cost[trace_node]: \n",
    "                optimal_sequence.append(check_node)\n",
    "                trace_node = check_node\n",
    "    print(opened)\n",
    "    optimal_sequence.reverse()\n",
    "    return closed, optimal_sequence\n",
    "\n",
    "if __name__ == '__main__':\n",
    "    visited_nodes, optimal_node  = AStarSearch()\n",
    "    print(\"visited nodes :\"+str(visited_nodes))\n",
    "    print(\"optimal nodes sequence : \"+str(optimal_node))"
   ]
  },
  {
   "cell_type": "code",
   "execution_count": null,
   "metadata": {},
   "outputs": [],
   "source": [
    "\n"
   ]
  },
  {
   "cell_type": "code",
   "execution_count": 11,
   "metadata": {},
   "outputs": [
    {
     "name": "stdout",
     "output_type": "stream",
     "text": [
      "[2, 3, 34, 40, 43, 53]\n"
     ]
    }
   ],
   "source": [
    "a = [40,3,53,2,43,34]\n",
    "for i in range(0,len(a)):\n",
    "    min = i\n",
    "    for j in range (i,len(a)):\n",
    "        if a[min] > a[j]:\n",
    "            min = j\n",
    "            \n",
    "    temp = a[i]\n",
    "    a[i] = a[min]\n",
    "    a[min] = temp\n",
    "\n",
    "print(a)"
   ]
  },
  {
   "cell_type": "code",
   "execution_count": null,
   "metadata": {},
   "outputs": [],
   "source": []
  }
 ],
 "metadata": {
  "kernelspec": {
   "display_name": "Python 3",
   "language": "python",
   "name": "python3"
  },
  "language_info": {
   "codemirror_mode": {
    "name": "ipython",
    "version": 3
   },
   "file_extension": ".py",
   "mimetype": "text/x-python",
   "name": "python",
   "nbconvert_exporter": "python",
   "pygments_lexer": "ipython3",
   "version": "3.8.5"
  }
 },
 "nbformat": 4,
 "nbformat_minor": 4
}
